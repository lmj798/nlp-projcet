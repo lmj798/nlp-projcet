{
 "cells": [
  {
   "cell_type": "code",
   "execution_count": 1,
   "metadata": {},
   "outputs": [
    {
     "name": "stdout",
     "output_type": "stream",
     "text": [
      "Dataset({\n",
      "    features: ['content', 'personality'],\n",
      "    num_rows: 58972\n",
      "})\n",
      "{'content': \"OH!The shame!It's unbearable.:P|||Aha...Well if it weren't for my superiority complex,I'd probably be down on the ground,all neurotic and depressive,locked up in an asylum.You need it in order to develop past your initial sphere of...|||Well excuse me for being such a drag.If it truly were a superiority complex,then I wouldn't be curious about the opinion of other people when it comes to understanding them.I just stated above that...|||I consider myself to be rather complicated.The mbti,jung's studies,psychology in general and philosophy inspired me to reach a certain conclusion related to people:if some are dumb,then it's not...|||I sometimes do simulate a large variety of things in my head resulting in intense feelings close to what I'd experience in reality.It's a bit complicated for me because while some people believe...|||I can't say I hate people.I always had trouble hating because I usually find explanations for the stupidity of people and mostly understand the fact that they have insecurities,social issues and...|||Why not trust science?It sometimes is indeed wrong,but that doesn't mean you mustn't give it a try.It means there are a couple of new things that need to be perfected.Science means finding a logic...|||Thanks for the offer,I'll think about it:laughing: who sais I can't marry?My idealism?a bit too soon tough...:P Not idealistic actually.I'm sure these toughts and theories can be put into practice...|||Thank you for the insight.I'm not a product of such an environment,so I don't fully understand the feeling of growing up in such a place. That's a good enough reason for all my arguements to be...|||\", 'personality': 'INTP'}\n",
      "just watched the american in line in front of me search \"barking ramz remix\" on apple music|||@user that one's hot summer, hot hot summer|||girls aloud were right, it's gonna be a long hot summer|||for those that don't know i produce wank pop here you go link|||late to party but that spoken word lipsync was great|||lady in subway asked for \"chipottle\" sauce|||hey they gotta isaac emoji ‍|||boyfriend said \"girl in front of fire\" and meant this pic link|||@user my tweet refers exclusively to abortion and not sterilisation tho, i feel that this is a separate t… link|||what i mean to say is it's explicitly a women's rights issue - they are trying to regain total control over women's… link|||yes some men can get pregnant but restricting abortions is an act of oppression targeted at women specifically, and… link|||purchased hatsune miku game see you in a month|||enough link|||just said to myself \"fishy fingers for the girly wirlies\". i have a 39 degree fever|||will never understand people who get alarmed that we don't teach kids the same science they learned at school decad… link|||currently the sexiest man with tonsillitis alive|||@user just be a normal lollipop like :(|||THEY PISS ME OFF SO BAD link|||hairline receding, abs disappearing, starting an IT support job. successful transition from female to just some guy|||do! do you! got a first! aid! kit! handy! link|||do u ever deep how barbie girl came out in 1997 like how ahead of their time were theyyy|||@user_ we wose|||ditch pronouns shirts i want indefinite articles merch|||lost my mind at this plus the fact no one ironed it link|||\n",
      "['just', 'watched', 'the', 'american', 'in', 'line', 'in', 'front', 'of', 'me', 'search', 'barking', 'ramz', 'remix', 'on', 'apple', 'music', 'user', 'that', \"one's\", 'hot', 'summer', 'hot', 'hot', 'summer', 'girls', 'aloud', 'were', 'right', \"it's\", 'gonna', 'be', 'a', 'long', 'hot', 'summer', 'for', 'those', 'that', \"don't\", 'know', 'i', 'produce', 'wank', 'pop', 'here', 'you', 'go', 'link', 'late', 'to', 'party', 'but', 'that', 'spoken', 'word', 'lipsync', 'was', 'great', 'lady', 'in', 'subway', 'asked', 'for', 'chipottle', 'sauce', 'hey', 'they', 'gotta', 'isaac', 'emoji', '\\u200d', 'boyfriend', 'said', 'girl', 'in', 'front', 'of', 'fire', 'and', 'meant', 'this', 'pic', 'link', 'user', 'my', 'tweet', 'refers', 'exclusively', 'to', 'abortion', 'and', 'not', 'sterilisation', 'tho', 'i', 'feel', 'that', 'this', 'is', 'a', 'separate', 't…', 'link', 'what', 'i', 'mean', 'to', 'say', 'is', \"it's\", 'explicitly', 'a', \"women's\", 'rights', 'issue', '-', 'they', 'are', 'trying', 'to', 'regain', 'total', 'control', 'over', \"women's…\", 'link', 'yes', 'some', 'men', 'can', 'get', 'pregnant', 'but', 'restricting', 'abortions', 'is', 'an', 'act', 'of', 'oppression', 'targeted', 'at', 'women', 'specifically', 'and…', 'link', 'purchased', 'hatsune', 'miku', 'game', 'see', 'you', 'in', 'a', 'month', 'enough', 'link', 'just', 'said', 'to', 'myself', 'fishy', 'fingers', 'for', 'the', 'girly', 'wirlies', 'i', 'have', 'a', '39', 'degree', 'fever', 'will', 'never', 'understand', 'people', 'who', 'get', 'alarmed', 'that', 'we', \"don't\", 'teach', 'kids', 'the', 'same', 'science', 'they', 'learned', 'at', 'school', 'decad…', 'link', 'currently', 'the', 'sexiest', 'man', 'with', 'tonsillitis', 'alive', 'user', 'just', 'be', 'a', 'normal', 'lollipop', 'like', '(', 'they', 'piss', 'me', 'off', 'so', 'bad', 'link', 'hairline', 'receding', 'abs', 'disappearing', 'starting', 'an', 'it', 'support', 'job', 'successful', 'transition', 'from', 'female', 'to', 'just', 'some', 'guy', 'do', 'do', 'you', 'got', 'a', 'first', 'aid', 'kit', 'handy', 'link', 'do', 'u', 'ever', 'deep', 'how', 'barbie', 'girl', 'came', 'out', 'in', '1997', 'like', 'how', 'ahead', 'of', 'their', 'time', 'were', 'theyyy', 'user_', 'we', 'wose', 'ditch', 'pronouns', 'shirts', 'i', 'want', 'indefinite', 'articles', 'merch', 'lost', 'my', 'mind', 'at', 'this', 'plus', 'the', 'fact', 'no', 'one', 'ironed', 'it', 'link']\n"
     ]
    }
   ],
   "source": [
    "import datasets\n",
    "train_set = datasets.load_from_disk(dataset_path=\"./train\")\n",
    "print(train_set)\n",
    "test_set = datasets.load_from_disk(dataset_path=\"./valid\")\n",
    "print(test_set[0])\n",
    "\n",
    "word_train = []\n",
    "y_train = []\n",
    "for i in range(len(train_set)):\n",
    "    word_train.append(train_set[i][\"content\"])\n",
    "    y_train.append(train_set[i][\"personality\"])\n",
    "\n",
    "word_test = []\n",
    "y_test = []\n",
    "for i in range(len(test_set)):\n",
    "    word_test.append(test_set[i][\"content\"])\n",
    "    y_test.append(test_set[i][\"personality\"])\n",
    "\n",
    "word_test = []\n",
    "y_test = []\n",
    "for i in range(len(test_set)):\n",
    "    word_test.append(test_set[i][\"content\"])\n",
    "    y_test.append(test_set[i][\"personality\"])\n",
    "\n",
    "import re\n",
    "import copy\n",
    "print(word_train[0])\n",
    "s = re.split('[|,.\":!@ ]', word_train[0])\n",
    "l = []\n",
    "for i in s:\n",
    "    if i != '':\n",
    "        l.append(i)\n",
    "for j in range(len(l)):\n",
    "    l[j] = l[j].lower()\n",
    "print(l)\n",
    "\n",
    "word_train_split = copy.deepcopy(word_train)\n",
    "word_test_split = copy.deepcopy(word_test)\n",
    "def sentence_split(words):\n",
    "    for k in range(len(words)):\n",
    "        s = re.split('[|,.\":!@ ]', words[k])\n",
    "        l = []\n",
    "        for i in s:\n",
    "            if i != '':\n",
    "                l.append(i)\n",
    "        for j in range(len(l)):\n",
    "            l[j] = l[j].lower()\n",
    "        words[k] = l\n",
    "\n",
    "\n",
    "sentence_split(word_test_split)\n",
    "sentence_split(word_train_split)\n"
   ]
  },
  {
   "cell_type": "code",
   "execution_count": 2,
   "metadata": {},
   "outputs": [
    {
     "name": "stdout",
     "output_type": "stream",
     "text": [
      "[-1.3912205   1.005679   -1.4607719   0.11151876  0.13435817  0.33270204\n",
      "  0.3742147  -0.30222982 -0.8626374   0.38996887  0.28223348 -0.57619417\n",
      " -1.104711    0.95265913  0.09263629 -0.5469245   0.86546725 -1.1351714\n",
      " -0.15432537 -1.2759777   0.73378575 -0.8759654  -0.18619183  1.0425233\n",
      " -0.28271848  0.9183986  -0.3344685  -0.549603   -0.38220578 -0.13506596\n",
      "  1.6096425   0.7265129   0.12832323  0.0164581   0.29327938  0.8808826\n",
      " -0.1497579  -0.7088357   0.2918417   0.10856324  0.74781805 -0.27847937\n",
      "  0.49054962  0.4489667   0.9878765   0.01098364 -0.7174324   0.680587\n",
      "  1.0416282   0.4646448  -0.06329063  0.14074568 -0.53778243  0.87819254\n",
      " -1.6531041   0.5418005  -0.59900564  0.7413729  -0.6868024   0.12398463\n",
      "  0.19044185  0.8621953   1.0806127  -0.6450116  -1.2263657   1.0117949\n",
      "  0.48666188 -0.05216694 -0.24009545  0.491816   -1.1320292   0.22925799\n",
      "  0.96150154 -0.08066716 -0.10869475  1.246545    1.1277021   0.7014088\n",
      " -0.646053   -0.6768136  -0.623933    0.639475   -0.5213028   0.62167495\n",
      " -0.7305193   0.9108783   0.41504946  0.66516644 -0.5417594   0.33123454\n",
      " -0.9491759   2.9633346  -0.04813999 -0.39208776  0.3044906  -0.62164515\n",
      "  0.7611298   0.39151934 -0.07888224  0.27518776]\n"
     ]
    }
   ],
   "source": [
    "from gensim.models.doc2vec import Doc2Vec, TaggedDocument\n",
    "word = word_train_split[0]\n",
    "documents = []\n",
    "c = 0\n",
    "for word in word_train_split:\n",
    "    documents.append(TaggedDocument(words=word, tags=[y_train[c]]))\n",
    "    c += 1\n",
    "model = Doc2Vec(documents, vector_size=100, window=5, min_count=3, workers=4)\n",
    "model.train(documents, total_examples=model.corpus_count, epochs=20)\n",
    "print(model.infer_vector(word_train_split[0]))"
   ]
  },
  {
   "cell_type": "code",
   "execution_count": 3,
   "metadata": {},
   "outputs": [],
   "source": [
    "for i in range(len(y_train)):\n",
    "    l = [0, 0, 0, 0]\n",
    "    s = str(y_train[i])\n",
    "    if s[0] == 'I':\n",
    "        l[0] = 1\n",
    "    if s[1] == 'S':\n",
    "        l[1] = 1\n",
    "    if s[2] == 'T':\n",
    "        l[2] = 1\n",
    "    if s[3] == 'P':\n",
    "        l[3] = 1\n",
    "    y_train[i] = l\n",
    "y1_train = []\n",
    "y2_train = []\n",
    "y3_train = []\n",
    "y4_train = []\n",
    "for i in range(len(y_train)):\n",
    "    y1_train.append(y_train[i][0])\n",
    "    y2_train.append(y_train[i][1])\n",
    "    y3_train.append(y_train[i][2])\n",
    "    y4_train.append(y_train[i][3])\n",
    "for i in range(len(y_test)):\n",
    "    l = [0, 0, 0, 0]\n",
    "    s = str(y_test[i])\n",
    "    if s[0] == 'I':\n",
    "        l[0] = 1\n",
    "    if s[1] == 'S':\n",
    "        l[1] = 1\n",
    "    if s[2] == 'T':\n",
    "        l[2] = 1\n",
    "    if s[3] == 'P':\n",
    "        l[3] = 1\n",
    "    y_test[i] = l\n",
    "y1_test = []\n",
    "y2_test = []\n",
    "y3_test = []\n",
    "y4_test = []\n",
    "for i in range(len(y_test)):\n",
    "    y1_test.append(y_test[i][0])\n",
    "    y2_test.append(y_test[i][1])\n",
    "    y3_test.append(y_test[i][2])\n",
    "    y4_test.append(y_test[i][3])\n",
    "\n",
    "    \n",
    "x_train = []\n",
    "x_test = []\n",
    "for i in range(len(word_train_split)):\n",
    "    x_train.append(model.infer_vector(word_train_split[i]))\n",
    "for i in range(len(word_test_split)):\n",
    "    x_test.append(model.infer_vector(word_test_split[i]))"
   ]
  },
  {
   "cell_type": "code",
   "execution_count": 4,
   "metadata": {},
   "outputs": [],
   "source": [
    "\n",
    "import numpy as np\n",
    "x_train = np.array(x_train)\n",
    "x_test = np.array(x_test)\n",
    "\n",
    "from sklearn.linear_model import LogisticRegression\n",
    "from sklearn.neural_network import MLPClassifier\n",
    "from sklearn.neighbors import KNeighborsClassifier\n",
    "from sklearn import svm\n",
    "#nlp_model1 = svm.SVC(C=1.0, kernel='rbf', gamma='auto')\n",
    "#nlp_model1 = LogisticRegression(C = 1.0, penalty = 'l2')\n",
    "nlp_model1 = MLPClassifier(solver='lbfgs', alpha=0.01, hidden_layer_sizes=(16,), random_state=1, max_iter=10000)\n",
    "nlp_model1.fit(x_train, y1_train)\n",
    "y1_pred = nlp_model1.predict(x_test)\n",
    "nlp_model1.fit(x_train, y2_train)\n",
    "y2_pred = nlp_model1.predict(x_test)\n",
    "nlp_model1.fit(x_train, y3_train)\n",
    "y3_pred = nlp_model1.predict(x_test)\n",
    "nlp_model1.fit(x_train, y4_train)\n",
    "y4_pred = nlp_model1.predict(x_test)\n",
    "y_test = np.array(y_test)\n",
    "y_pred = np.zeros(y_test.shape)\n",
    "for i in range(len(y_test)):\n",
    "    y_pred[i][0] = y1_pred[i]\n",
    "    y_pred[i][1] = y2_pred[i]\n",
    "    y_pred[i][2] = y3_pred[i]\n",
    "    y_pred[i][3] = y4_pred[i]\n",
    "acc = 0\n",
    "for i in range(len(y_test)):\n",
    "    if y_test[i][0] == y_pred[i][0] and y_test[i][1] == y_pred[i][1] and y_test[i][2] == y_pred[i][2] and y_test[i][3] == y_pred[i][3]:\n",
    "        acc += 1\n",
    "acc = acc/(len(y_test))"
   ]
  },
  {
   "cell_type": "code",
   "execution_count": 5,
   "metadata": {},
   "outputs": [
    {
     "name": "stdout",
     "output_type": "stream",
     "text": [
      "0.30670103092783507\n"
     ]
    }
   ],
   "source": [
    "print(acc)"
   ]
  },
  {
   "cell_type": "code",
   "execution_count": 6,
   "metadata": {},
   "outputs": [
    {
     "name": "stdout",
     "output_type": "stream",
     "text": [
      "0.24645618556701032\n"
     ]
    }
   ],
   "source": [
    "nlp_model2 = KNeighborsClassifier()\n",
    "nlp_model2.fit(x_train, y1_train)\n",
    "y1_pred = nlp_model2.predict(x_test)\n",
    "nlp_model2.fit(x_train, y2_train)\n",
    "y2_pred = nlp_model2.predict(x_test)\n",
    "nlp_model2.fit(x_train, y3_train)\n",
    "y3_pred = nlp_model2.predict(x_test)\n",
    "nlp_model2.fit(x_train, y4_train)\n",
    "y4_pred = nlp_model2.predict(x_test)\n",
    "y_test = np.array(y_test)\n",
    "y_pred = np.zeros(y_test.shape)\n",
    "for i in range(len(y_test)):\n",
    "    y_pred[i][0] = y1_pred[i]\n",
    "    y_pred[i][1] = y2_pred[i]\n",
    "    y_pred[i][2] = y3_pred[i]\n",
    "    y_pred[i][3] = y4_pred[i]\n",
    "acc2 = 0\n",
    "for i in range(len(y_test)):\n",
    "    if y_test[i][0] == y_pred[i][0] and y_test[i][1] == y_pred[i][1] and y_test[i][2] == y_pred[i][2] and y_test[i][3] == y_pred[i][3]:\n",
    "        acc2 += 1\n",
    "acc2 = acc2/(len(y_test))\n",
    "print(acc2)\n"
   ]
  }
 ],
 "metadata": {
  "kernelspec": {
   "display_name": "base",
   "language": "python",
   "name": "python3"
  },
  "language_info": {
   "codemirror_mode": {
    "name": "ipython",
    "version": 3
   },
   "file_extension": ".py",
   "mimetype": "text/x-python",
   "name": "python",
   "nbconvert_exporter": "python",
   "pygments_lexer": "ipython3",
   "version": "3.11.7"
  }
 },
 "nbformat": 4,
 "nbformat_minor": 2
}

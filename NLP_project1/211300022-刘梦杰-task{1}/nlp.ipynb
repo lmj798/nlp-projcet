{
 "cells": [
  {
   "cell_type": "code",
   "execution_count": 1,
   "metadata": {},
   "outputs": [
    {
     "name": "stdout",
     "output_type": "stream",
     "text": [
      "Dataset({\n",
      "    features: ['content', 'personality'],\n",
      "    num_rows: 58972\n",
      "})\n",
      "{'content': \"OH!The shame!It's unbearable.:P|||Aha...Well if it weren't for my superiority complex,I'd probably be down on the ground,all neurotic and depressive,locked up in an asylum.You need it in order to develop past your initial sphere of...|||Well excuse me for being such a drag.If it truly were a superiority complex,then I wouldn't be curious about the opinion of other people when it comes to understanding them.I just stated above that...|||I consider myself to be rather complicated.The mbti,jung's studies,psychology in general and philosophy inspired me to reach a certain conclusion related to people:if some are dumb,then it's not...|||I sometimes do simulate a large variety of things in my head resulting in intense feelings close to what I'd experience in reality.It's a bit complicated for me because while some people believe...|||I can't say I hate people.I always had trouble hating because I usually find explanations for the stupidity of people and mostly understand the fact that they have insecurities,social issues and...|||Why not trust science?It sometimes is indeed wrong,but that doesn't mean you mustn't give it a try.It means there are a couple of new things that need to be perfected.Science means finding a logic...|||Thanks for the offer,I'll think about it:laughing: who sais I can't marry?My idealism?a bit too soon tough...:P Not idealistic actually.I'm sure these toughts and theories can be put into practice...|||Thank you for the insight.I'm not a product of such an environment,so I don't fully understand the feeling of growing up in such a place. That's a good enough reason for all my arguements to be...|||\", 'personality': 'INTP'}\n",
      "OH!The shame!It's unbearable.:P|||Aha...Well if it weren't for my superiority complex,I'd probably be down on the ground,all neurotic and depressive,locked up in an asylum.You need it in order to develop past your initial sphere of...|||Well excuse me for being such a drag.If it truly were a superiority complex,then I wouldn't be curious about the opinion of other people when it comes to understanding them.I just stated above that...|||I consider myself to be rather complicated.The mbti,jung's studies,psychology in general and philosophy inspired me to reach a certain conclusion related to people:if some are dumb,then it's not...|||I sometimes do simulate a large variety of things in my head resulting in intense feelings close to what I'd experience in reality.It's a bit complicated for me because while some people believe...|||I can't say I hate people.I always had trouble hating because I usually find explanations for the stupidity of people and mostly understand the fact that they have insecurities,social issues and...|||Why not trust science?It sometimes is indeed wrong,but that doesn't mean you mustn't give it a try.It means there are a couple of new things that need to be perfected.Science means finding a logic...|||Thanks for the offer,I'll think about it:laughing: who sais I can't marry?My idealism?a bit too soon tough...:P Not idealistic actually.I'm sure these toughts and theories can be put into practice...|||Thank you for the insight.I'm not a product of such an environment,so I don't fully understand the feeling of growing up in such a place. That's a good enough reason for all my arguements to be...|||\n",
      "INTP\n",
      "just watched the american in line in front of me search \"barking ramz remix\" on apple music|||@user that one's hot summer, hot hot summer|||girls aloud were right, it's gonna be a long hot summer|||for those that don't know i produce wank pop here you go link|||late to party but that spoken word lipsync was great|||lady in subway asked for \"chipottle\" sauce|||hey they gotta isaac emoji ‍|||boyfriend said \"girl in front of fire\" and meant this pic link|||@user my tweet refers exclusively to abortion and not sterilisation tho, i feel that this is a separate t… link|||what i mean to say is it's explicitly a women's rights issue - they are trying to regain total control over women's… link|||yes some men can get pregnant but restricting abortions is an act of oppression targeted at women specifically, and… link|||purchased hatsune miku game see you in a month|||enough link|||just said to myself \"fishy fingers for the girly wirlies\". i have a 39 degree fever|||will never understand people who get alarmed that we don't teach kids the same science they learned at school decad… link|||currently the sexiest man with tonsillitis alive|||@user just be a normal lollipop like :(|||THEY PISS ME OFF SO BAD link|||hairline receding, abs disappearing, starting an IT support job. successful transition from female to just some guy|||do! do you! got a first! aid! kit! handy! link|||do u ever deep how barbie girl came out in 1997 like how ahead of their time were theyyy|||@user_ we wose|||ditch pronouns shirts i want indefinite articles merch|||lost my mind at this plus the fact no one ironed it link|||\n",
      "INTP\n"
     ]
    }
   ],
   "source": [
    "import datasets\n",
    "train_set = datasets.load_from_disk(dataset_path=\"./train\")\n",
    "print(train_set)\n",
    "test_set = datasets.load_from_disk(dataset_path=\"./valid\")\n",
    "print(test_set[0])\n",
    "\n",
    "word_train = []\n",
    "y_train = []\n",
    "for i in range(len(train_set)):\n",
    "    word_train.append(train_set[i][\"content\"])\n",
    "    y_train.append(train_set[i][\"personality\"])\n",
    "\n",
    "word_test = []\n",
    "y_test = []\n",
    "for i in range(len(test_set)):\n",
    "    word_test.append(test_set[i][\"content\"])\n",
    "    y_test.append(test_set[i][\"personality\"])\n",
    "\n",
    "print(word_test[0])\n",
    "print(y_train[0])\n",
    "print(word_train[0])\n",
    "print(y_test[0])"
   ]
  },
  {
   "cell_type": "code",
   "execution_count": 2,
   "metadata": {},
   "outputs": [
    {
     "name": "stdout",
     "output_type": "stream",
     "text": [
      "just watched the american in line in front of me search \"barking ramz remix\" on apple music|||@user that one's hot summer, hot hot summer|||girls aloud were right, it's gonna be a long hot summer|||for those that don't know i produce wank pop here you go link|||late to party but that spoken word lipsync was great|||lady in subway asked for \"chipottle\" sauce|||hey they gotta isaac emoji ‍|||boyfriend said \"girl in front of fire\" and meant this pic link|||@user my tweet refers exclusively to abortion and not sterilisation tho, i feel that this is a separate t… link|||what i mean to say is it's explicitly a women's rights issue - they are trying to regain total control over women's… link|||yes some men can get pregnant but restricting abortions is an act of oppression targeted at women specifically, and… link|||purchased hatsune miku game see you in a month|||enough link|||just said to myself \"fishy fingers for the girly wirlies\". i have a 39 degree fever|||will never understand people who get alarmed that we don't teach kids the same science they learned at school decad… link|||currently the sexiest man with tonsillitis alive|||@user just be a normal lollipop like :(|||THEY PISS ME OFF SO BAD link|||hairline receding, abs disappearing, starting an IT support job. successful transition from female to just some guy|||do! do you! got a first! aid! kit! handy! link|||do u ever deep how barbie girl came out in 1997 like how ahead of their time were theyyy|||@user_ we wose|||ditch pronouns shirts i want indefinite articles merch|||lost my mind at this plus the fact no one ironed it link|||\n",
      "['just', 'watched', 'the', 'american', 'in', 'line', 'in', 'front', 'of', 'me', 'search', 'barking', 'ramz', 'remix', 'on', 'apple', 'music', 'user', 'that', \"one's\", 'hot', 'summer', 'hot', 'hot', 'summer', 'girls', 'aloud', 'were', 'right', \"it's\", 'gonna', 'be', 'a', 'long', 'hot', 'summer', 'for', 'those', 'that', \"don't\", 'know', 'i', 'produce', 'wank', 'pop', 'here', 'you', 'go', 'link', 'late', 'to', 'party', 'but', 'that', 'spoken', 'word', 'lipsync', 'was', 'great', 'lady', 'in', 'subway', 'asked', 'for', 'chipottle', 'sauce', 'hey', 'they', 'gotta', 'isaac', 'emoji', '\\u200d', 'boyfriend', 'said', 'girl', 'in', 'front', 'of', 'fire', 'and', 'meant', 'this', 'pic', 'link', 'user', 'my', 'tweet', 'refers', 'exclusively', 'to', 'abortion', 'and', 'not', 'sterilisation', 'tho', 'i', 'feel', 'that', 'this', 'is', 'a', 'separate', 't…', 'link', 'what', 'i', 'mean', 'to', 'say', 'is', \"it's\", 'explicitly', 'a', \"women's\", 'rights', 'issue', '-', 'they', 'are', 'trying', 'to', 'regain', 'total', 'control', 'over', \"women's…\", 'link', 'yes', 'some', 'men', 'can', 'get', 'pregnant', 'but', 'restricting', 'abortions', 'is', 'an', 'act', 'of', 'oppression', 'targeted', 'at', 'women', 'specifically', 'and…', 'link', 'purchased', 'hatsune', 'miku', 'game', 'see', 'you', 'in', 'a', 'month', 'enough', 'link', 'just', 'said', 'to', 'myself', 'fishy', 'fingers', 'for', 'the', 'girly', 'wirlies', 'i', 'have', 'a', '39', 'degree', 'fever', 'will', 'never', 'understand', 'people', 'who', 'get', 'alarmed', 'that', 'we', \"don't\", 'teach', 'kids', 'the', 'same', 'science', 'they', 'learned', 'at', 'school', 'decad…', 'link', 'currently', 'the', 'sexiest', 'man', 'with', 'tonsillitis', 'alive', 'user', 'just', 'be', 'a', 'normal', 'lollipop', 'like', '(', 'they', 'piss', 'me', 'off', 'so', 'bad', 'link', 'hairline', 'receding', 'abs', 'disappearing', 'starting', 'an', 'it', 'support', 'job', 'successful', 'transition', 'from', 'female', 'to', 'just', 'some', 'guy', 'do', 'do', 'you', 'got', 'a', 'first', 'aid', 'kit', 'handy', 'link', 'do', 'u', 'ever', 'deep', 'how', 'barbie', 'girl', 'came', 'out', 'in', '1997', 'like', 'how', 'ahead', 'of', 'their', 'time', 'were', 'theyyy', 'user_', 'we', 'wose', 'ditch', 'pronouns', 'shirts', 'i', 'want', 'indefinite', 'articles', 'merch', 'lost', 'my', 'mind', 'at', 'this', 'plus', 'the', 'fact', 'no', 'one', 'ironed', 'it', 'link']\n",
      "['just', 'watched', 'the', 'american', 'in', 'line', 'in', 'front', 'of', 'me', 'search', 'barking', 'ramz', 'remix', 'on', 'apple', 'music', 'user', 'that', \"one's\", 'hot', 'summer', 'hot', 'hot', 'summer', 'girls', 'aloud', 'were', 'right', \"it's\", 'gonna', 'be', 'a', 'long', 'hot', 'summer', 'for', 'those', 'that', \"don't\", 'know', 'i', 'produce', 'wank', 'pop', 'here', 'you', 'go', 'link', 'late', 'to', 'party', 'but', 'that', 'spoken', 'word', 'lipsync', 'was', 'great', 'lady', 'in', 'subway', 'asked', 'for', 'chipottle', 'sauce', 'hey', 'they', 'gotta', 'isaac', 'emoji', '\\u200d', 'boyfriend', 'said', 'girl', 'in', 'front', 'of', 'fire', 'and', 'meant', 'this', 'pic', 'link', 'user', 'my', 'tweet', 'refers', 'exclusively', 'to', 'abortion', 'and', 'not', 'sterilisation', 'tho', 'i', 'feel', 'that', 'this', 'is', 'a', 'separate', 't…', 'link', 'what', 'i', 'mean', 'to', 'say', 'is', \"it's\", 'explicitly', 'a', \"women's\", 'rights', 'issue', '-', 'they', 'are', 'trying', 'to', 'regain', 'total', 'control', 'over', \"women's…\", 'link', 'yes', 'some', 'men', 'can', 'get', 'pregnant', 'but', 'restricting', 'abortions', 'is', 'an', 'act', 'of', 'oppression', 'targeted', 'at', 'women', 'specifically', 'and…', 'link', 'purchased', 'hatsune', 'miku', 'game', 'see', 'you', 'in', 'a', 'month', 'enough', 'link', 'just', 'said', 'to', 'myself', 'fishy', 'fingers', 'for', 'the', 'girly', 'wirlies', 'i', 'have', 'a', '39', 'degree', 'fever', 'will', 'never', 'understand', 'people', 'who', 'get', 'alarmed', 'that', 'we', \"don't\", 'teach', 'kids', 'the', 'same', 'science', 'they', 'learned', 'at', 'school', 'decad…', 'link', 'currently', 'the', 'sexiest', 'man', 'with', 'tonsillitis', 'alive', 'user', 'just', 'be', 'a', 'normal', 'lollipop', 'like', '(', 'they', 'piss', 'me', 'off', 'so', 'bad', 'link', 'hairline', 'receding', 'abs', 'disappearing', 'starting', 'an', 'it', 'support', 'job', 'successful', 'transition', 'from', 'female', 'to', 'just', 'some', 'guy', 'do', 'do', 'you', 'got', 'a', 'first', 'aid', 'kit', 'handy', 'link', 'do', 'u', 'ever', 'deep', 'how', 'barbie', 'girl', 'came', 'out', 'in', '1997', 'like', 'how', 'ahead', 'of', 'their', 'time', 'were', 'theyyy', 'user_', 'we', 'wose', 'ditch', 'pronouns', 'shirts', 'i', 'want', 'indefinite', 'articles', 'merch', 'lost', 'my', 'mind', 'at', 'this', 'plus', 'the', 'fact', 'no', 'one', 'ironed', 'it', 'link']\n",
      "['oh', 'the', 'shame', \"it's\", 'unbearable', 'p', 'aha', 'well', 'if', 'it', \"weren't\", 'for', 'my', 'superiority', 'complex', \"i'd\", 'probably', 'be', 'down', 'on', 'the', 'ground', 'all', 'neurotic', 'and', 'depressive', 'locked', 'up', 'in', 'an', 'asylum', 'you', 'need', 'it', 'in', 'order', 'to', 'develop', 'past', 'your', 'initial', 'sphere', 'of', 'well', 'excuse', 'me', 'for', 'being', 'such', 'a', 'drag', 'if', 'it', 'truly', 'were', 'a', 'superiority', 'complex', 'then', 'i', \"wouldn't\", 'be', 'curious', 'about', 'the', 'opinion', 'of', 'other', 'people', 'when', 'it', 'comes', 'to', 'understanding', 'them', 'i', 'just', 'stated', 'above', 'that', 'i', 'consider', 'myself', 'to', 'be', 'rather', 'complicated', 'the', 'mbti', \"jung's\", 'studies', 'psychology', 'in', 'general', 'and', 'philosophy', 'inspired', 'me', 'to', 'reach', 'a', 'certain', 'conclusion', 'related', 'to', 'people', 'if', 'some', 'are', 'dumb', 'then', \"it's\", 'not', 'i', 'sometimes', 'do', 'simulate', 'a', 'large', 'variety', 'of', 'things', 'in', 'my', 'head', 'resulting', 'in', 'intense', 'feelings', 'close', 'to', 'what', \"i'd\", 'experience', 'in', 'reality', \"it's\", 'a', 'bit', 'complicated', 'for', 'me', 'because', 'while', 'some', 'people', 'believe', 'i', \"can't\", 'say', 'i', 'hate', 'people', 'i', 'always', 'had', 'trouble', 'hating', 'because', 'i', 'usually', 'find', 'explanations', 'for', 'the', 'stupidity', 'of', 'people', 'and', 'mostly', 'understand', 'the', 'fact', 'that', 'they', 'have', 'insecurities', 'social', 'issues', 'and', 'why', 'not', 'trust', 'science?it', 'sometimes', 'is', 'indeed', 'wrong', 'but', 'that', \"doesn't\", 'mean', 'you', \"mustn't\", 'give', 'it', 'a', 'try', 'it', 'means', 'there', 'are', 'a', 'couple', 'of', 'new', 'things', 'that', 'need', 'to', 'be', 'perfected', 'science', 'means', 'finding', 'a', 'logic', 'thanks', 'for', 'the', 'offer', \"i'll\", 'think', 'about', 'it', 'laughing', 'who', 'sais', 'i', \"can't\", 'marry?my', 'idealism?a', 'bit', 'too', 'soon', 'tough', 'p', 'not', 'idealistic', 'actually', \"i'm\", 'sure', 'these', 'toughts', 'and', 'theories', 'can', 'be', 'put', 'into', 'practice', 'thank', 'you', 'for', 'the', 'insight', \"i'm\", 'not', 'a', 'product', 'of', 'such', 'an', 'environment', 'so', 'i', \"don't\", 'fully', 'understand', 'the', 'feeling', 'of', 'growing', 'up', 'in', 'such', 'a', 'place', \"that's\", 'a', 'good', 'enough', 'reason', 'for', 'all', 'my', 'arguements', 'to', 'be']\n",
      "[('oh', 'IN'), ('the', 'DT'), ('shame', 'NN'), (\"it's\", 'NN'), ('unbearable', 'JJ'), ('p', 'NN'), ('aha', 'RB'), ('well', 'RB'), ('if', 'IN'), ('it', 'PRP'), (\"weren't\", 'VBZ'), ('for', 'IN'), ('my', 'PRP$'), ('superiority', 'NN'), ('complex', 'JJ'), (\"i'd\", 'NN'), ('probably', 'RB'), ('be', 'VB'), ('down', 'RB'), ('on', 'IN'), ('the', 'DT'), ('ground', 'NN'), ('all', 'DT'), ('neurotic', 'JJ'), ('and', 'CC'), ('depressive', 'JJ'), ('locked', 'VBN'), ('up', 'RP'), ('in', 'IN'), ('an', 'DT'), ('asylum', 'NN'), ('you', 'PRP'), ('need', 'VBP'), ('it', 'PRP'), ('in', 'IN'), ('order', 'NN'), ('to', 'TO'), ('develop', 'VB'), ('past', 'IN'), ('your', 'PRP$'), ('initial', 'JJ'), ('sphere', 'NN'), ('of', 'IN'), ('well', 'RB'), ('excuse', 'IN'), ('me', 'PRP'), ('for', 'IN'), ('being', 'VBG'), ('such', 'JJ'), ('a', 'DT'), ('drag', 'NN'), ('if', 'IN'), ('it', 'PRP'), ('truly', 'RB'), ('were', 'VBD'), ('a', 'DT'), ('superiority', 'NN'), ('complex', 'JJ'), ('then', 'RB'), ('i', 'VBP'), (\"wouldn't\", 'VBP'), ('be', 'VB'), ('curious', 'JJ'), ('about', 'IN'), ('the', 'DT'), ('opinion', 'NN'), ('of', 'IN'), ('other', 'JJ'), ('people', 'NNS'), ('when', 'WRB'), ('it', 'PRP'), ('comes', 'VBZ'), ('to', 'TO'), ('understanding', 'VBG'), ('them', 'PRP'), ('i', 'JJ'), ('just', 'RB'), ('stated', 'VBN'), ('above', 'IN'), ('that', 'DT'), ('i', 'JJ'), ('consider', 'VBP'), ('myself', 'PRP'), ('to', 'TO'), ('be', 'VB'), ('rather', 'RB'), ('complicated', 'VBN'), ('the', 'DT'), ('mbti', 'NN'), (\"jung's\", 'NN'), ('studies', 'NNS'), ('psychology', 'VBP'), ('in', 'IN'), ('general', 'JJ'), ('and', 'CC'), ('philosophy', 'NN'), ('inspired', 'VBD'), ('me', 'PRP'), ('to', 'TO'), ('reach', 'VB'), ('a', 'DT'), ('certain', 'JJ'), ('conclusion', 'NN'), ('related', 'VBN'), ('to', 'TO'), ('people', 'NNS'), ('if', 'IN'), ('some', 'DT'), ('are', 'VBP'), ('dumb', 'JJ'), ('then', 'RB'), (\"it's\", 'VBZ'), ('not', 'RB'), ('i', 'JJ'), ('sometimes', 'RB'), ('do', 'VBP'), ('simulate', 'VB'), ('a', 'DT'), ('large', 'JJ'), ('variety', 'NN'), ('of', 'IN'), ('things', 'NNS'), ('in', 'IN'), ('my', 'PRP$'), ('head', 'NN'), ('resulting', 'VBG'), ('in', 'IN'), ('intense', 'JJ'), ('feelings', 'NNS'), ('close', 'RB'), ('to', 'TO'), ('what', 'WP'), (\"i'd\", 'VB'), ('experience', 'NN'), ('in', 'IN'), ('reality', 'NN'), (\"it's\", 'VBP'), ('a', 'DT'), ('bit', 'NN'), ('complicated', 'VBN'), ('for', 'IN'), ('me', 'PRP'), ('because', 'IN'), ('while', 'IN'), ('some', 'DT'), ('people', 'NNS'), ('believe', 'VBP'), ('i', 'JJ'), (\"can't\", 'VBP'), ('say', 'VBP'), ('i', 'JJ'), ('hate', 'VBP'), ('people', 'NNS'), ('i', 'VBP'), ('always', 'RB'), ('had', 'VBD'), ('trouble', 'NN'), ('hating', 'NN'), ('because', 'IN'), ('i', 'NN'), ('usually', 'RB'), ('find', 'VBP'), ('explanations', 'NNS'), ('for', 'IN'), ('the', 'DT'), ('stupidity', 'NN'), ('of', 'IN'), ('people', 'NNS'), ('and', 'CC'), ('mostly', 'RB'), ('understand', 'VBP'), ('the', 'DT'), ('fact', 'NN'), ('that', 'IN'), ('they', 'PRP'), ('have', 'VBP'), ('insecurities', 'NNS'), ('social', 'JJ'), ('issues', 'NNS'), ('and', 'CC'), ('why', 'WRB'), ('not', 'RB'), ('trust', 'VB'), ('science?it', 'NN'), ('sometimes', 'RB'), ('is', 'VBZ'), ('indeed', 'RB'), ('wrong', 'JJ'), ('but', 'CC'), ('that', 'DT'), (\"doesn't\", 'VBZ'), ('mean', 'VB'), ('you', 'PRP'), (\"mustn't\", 'VBP'), ('give', 'VB'), ('it', 'PRP'), ('a', 'DT'), ('try', 'NN'), ('it', 'PRP'), ('means', 'VBZ'), ('there', 'EX'), ('are', 'VBP'), ('a', 'DT'), ('couple', 'NN'), ('of', 'IN'), ('new', 'JJ'), ('things', 'NNS'), ('that', 'WDT'), ('need', 'VBP'), ('to', 'TO'), ('be', 'VB'), ('perfected', 'VBN'), ('science', 'NN'), ('means', 'VBZ'), ('finding', 'VBG'), ('a', 'DT'), ('logic', 'JJ'), ('thanks', 'NNS'), ('for', 'IN'), ('the', 'DT'), ('offer', 'NN'), (\"i'll\", 'NN'), ('think', 'VBP'), ('about', 'IN'), ('it', 'PRP'), ('laughing', 'VBG'), ('who', 'WP'), ('sais', 'VBP'), ('i', 'VBP'), (\"can't\", 'VBP'), ('marry?my', 'JJ'), ('idealism?a', 'JJ'), ('bit', 'NN'), ('too', 'RB'), ('soon', 'RB'), ('tough', 'JJ'), ('p', 'NN'), ('not', 'RB'), ('idealistic', 'JJ'), ('actually', 'RB'), (\"i'm\", 'JJ'), ('sure', 'JJ'), ('these', 'DT'), ('toughts', 'NNS'), ('and', 'CC'), ('theories', 'NNS'), ('can', 'MD'), ('be', 'VB'), ('put', 'VBN'), ('into', 'IN'), ('practice', 'NN'), ('thank', 'NN'), ('you', 'PRP'), ('for', 'IN'), ('the', 'DT'), ('insight', 'NN'), (\"i'm\", 'NN'), ('not', 'RB'), ('a', 'DT'), ('product', 'NN'), ('of', 'IN'), ('such', 'JJ'), ('an', 'DT'), ('environment', 'NN'), ('so', 'RB'), ('i', 'JJ'), (\"don't\", 'VBP'), ('fully', 'RB'), ('understand', 'VBP'), ('the', 'DT'), ('feeling', 'NN'), ('of', 'IN'), ('growing', 'VBG'), ('up', 'RP'), ('in', 'IN'), ('such', 'PDT'), ('a', 'DT'), ('place', 'NN'), (\"that's\", 'NN'), ('a', 'DT'), ('good', 'JJ'), ('enough', 'JJ'), ('reason', 'NN'), ('for', 'IN'), ('all', 'DT'), ('my', 'PRP$'), ('arguements', 'NNS'), ('to', 'TO'), ('be', 'VB')]\n"
     ]
    }
   ],
   "source": [
    "import re\n",
    "import copy\n",
    "import nltk\n",
    "print(word_train[0])\n",
    "s = re.split('[|,.\":!@ ]', word_train[0])\n",
    "l = []\n",
    "for i in s:\n",
    "    if i != '':\n",
    "        l.append(i)\n",
    "for j in range(len(l)):\n",
    "    l[j] = l[j].lower()\n",
    "print(l)\n",
    "\n",
    "word_train_split = copy.deepcopy(word_train)\n",
    "word_test_split = copy.deepcopy(word_test)\n",
    "def sentence_split(words):\n",
    "    for k in range(len(words)):\n",
    "        s = re.split('[|,.\":!@ ]', words[k])\n",
    "        l = []\n",
    "        for i in s:\n",
    "            if i != '':\n",
    "                l.append(i)\n",
    "        for j in range(len(l)):\n",
    "            l[j] = l[j].lower()\n",
    "        words[k] = l\n",
    "\n",
    "\n",
    "sentence_split(word_test_split)\n",
    "sentence_split(word_train_split)\n",
    "print(word_train_split[0])\n",
    "print(word_test_split[0])\n",
    "print(nltk.pos_tag(word_test_split[0]))"
   ]
  },
  {
   "cell_type": "code",
   "execution_count": 3,
   "metadata": {},
   "outputs": [],
   "source": [
    "import numpy as np\n",
    "tags = ['CC', 'CD', 'DT', 'EX', 'FW', 'IN', 'JJ', 'JJR', 'JJS', 'LS', 'MD', 'NN', 'NNS', 'NNP', 'NNPS', 'PDT', 'POS', 'PRP', 'PRP$', 'RB', 'RBR', 'RBS', 'RP', 'TO', 'UH', 'VB', 'VBD', 'VBG', 'VBN', 'VBP', 'VBZ', 'WDT', 'WP', 'WP$', 'WRB']\n",
    "n = len(tags)\n",
    "x_train = np.zeros((len(word_train_split), n))\n",
    "x_test = np.zeros((len(word_test_split), n))\n",
    "for i in range(len(word_train_split)):\n",
    "    word_tags = nltk.pos_tag(word_train_split[i])\n",
    "    for x, y in word_tags:\n",
    "        if y in tags:\n",
    "            index_of_tags = tags.index(y)\n",
    "            x_train[i][index_of_tags] += 1\n",
    "for i in range(len(word_test_split)):\n",
    "    word_tags = nltk.pos_tag(word_test_split[i])\n",
    "    for x, y in word_tags:\n",
    "        if y in tags:\n",
    "            index_of_tags = tags.index(y)\n",
    "            x_test[i][index_of_tags] += 1\n"
   ]
  },
  {
   "cell_type": "code",
   "execution_count": 4,
   "metadata": {},
   "outputs": [],
   "source": [
    "for i in range(len(y_train)):\n",
    "    l = [0, 0, 0, 0]\n",
    "    s = str(y_train[i])\n",
    "    if s[0] == 'I':\n",
    "        l[0] = 1\n",
    "    if s[1] == 'S':\n",
    "        l[1] = 1\n",
    "    if s[2] == 'T':\n",
    "        l[2] = 1\n",
    "    if s[3] == 'P':\n",
    "        l[3] = 1\n",
    "    y_train[i] = l\n",
    "y1_train = []\n",
    "y2_train = []\n",
    "y3_train = []\n",
    "y4_train = []\n",
    "for i in range(len(y_train)):\n",
    "    y1_train.append(y_train[i][0])\n",
    "    y2_train.append(y_train[i][1])\n",
    "    y3_train.append(y_train[i][2])\n",
    "    y4_train.append(y_train[i][3])\n",
    "for i in range(len(y_test)):\n",
    "    l = [0, 0, 0, 0]\n",
    "    s = str(y_test[i])\n",
    "    if s[0] == 'I':\n",
    "        l[0] = 1\n",
    "    if s[1] == 'S':\n",
    "        l[1] = 1\n",
    "    if s[2] == 'T':\n",
    "        l[2] = 1\n",
    "    if s[3] == 'P':\n",
    "        l[3] = 1\n",
    "    y_test[i] = l\n",
    "y1_test = []\n",
    "y2_test = []\n",
    "y3_test = []\n",
    "y4_test = []\n",
    "for i in range(len(y_test)):\n",
    "    y1_test.append(y_test[i][0])\n",
    "    y2_test.append(y_test[i][1])\n",
    "    y3_test.append(y_test[i][2])\n",
    "    y4_test.append(y_test[i][3])"
   ]
  },
  {
   "cell_type": "code",
   "execution_count": 5,
   "metadata": {},
   "outputs": [],
   "source": [
    "x_train = np.array(x_train)\n",
    "x_test = np.array(x_test)\n",
    "def softmax(x):\n",
    "    softmax_x = np.zeros(x.shape)\n",
    "    for i in range(x.shape[0]):\n",
    "        c = 0\n",
    "        for j in range(x.shape[1]):\n",
    "            c += x[i][j]\n",
    "        for j in range(x.shape[1]):\n",
    "            softmax_x[i][j] = x[i][j]/c\n",
    "    return softmax_x\n",
    "x_train = softmax(x_train)\n",
    "x_test = softmax(x_test)"
   ]
  },
  {
   "cell_type": "code",
   "execution_count": 14,
   "metadata": {},
   "outputs": [
    {
     "name": "stdout",
     "output_type": "stream",
     "text": [
      "0.18266752577319587\n"
     ]
    }
   ],
   "source": [
    "from sklearn.linear_model import LogisticRegression\n",
    "from sklearn.neural_network import MLPClassifier\n",
    "from sklearn.neighbors import KNeighborsClassifier\n",
    "from sklearn import svm\n",
    "#nlp_model1 = svm.SVC(C=1.0, kernel='rbf', gamma='auto')\n",
    "nlp_model1 = MLPClassifier(solver='lbfgs', alpha=0.01, hidden_layer_sizes=(16,), random_state=1, max_iter=10000)\n",
    "nlp_model1.fit(x_train, y1_train)\n",
    "y1_pred = nlp_model1.predict(x_test)\n",
    "nlp_model1.fit(x_train, y2_train)\n",
    "y2_pred = nlp_model1.predict(x_test)\n",
    "nlp_model1.fit(x_train, y3_train)\n",
    "y3_pred = nlp_model1.predict(x_test)\n",
    "nlp_model1.fit(x_train, y4_train)\n",
    "y4_pred = nlp_model1.predict(x_test)\n",
    "y_test = np.array(y_test)\n",
    "y_pred = np.zeros(y_test.shape)\n",
    "for i in range(len(y_test)):\n",
    "    y_pred[i][0] = y1_pred[i]\n",
    "    y_pred[i][1] = y2_pred[i]\n",
    "    y_pred[i][2] = y3_pred[i]\n",
    "    y_pred[i][3] = y4_pred[i]\n",
    "acc = 0\n",
    "for i in range(len(y_test)):\n",
    "    if y_test[i][0] == y_pred[i][0] and y_test[i][1] == y_pred[i][1] and y_test[i][2] == y_pred[i][2] and y_test[i][3] == y_pred[i][3]:\n",
    "        acc += 1\n",
    "acc = acc/(len(y_test))\n",
    "print(acc)\n",
    "\n"
   ]
  },
  {
   "cell_type": "code",
   "execution_count": 19,
   "metadata": {},
   "outputs": [
    {
     "name": "stdout",
     "output_type": "stream",
     "text": [
      "[[0. 0. 0. ... 1. 0. 0.]\n",
      " [0. 0. 0. ... 0. 0. 0.]\n",
      " [0. 0. 0. ... 0. 0. 0.]\n",
      " ...\n",
      " [1. 0. 0. ... 0. 0. 0.]\n",
      " [0. 0. 0. ... 0. 0. 0.]\n",
      " [0. 1. 0. ... 0. 0. 0.]]\n",
      "[0. 0. 0. 0. 0. 0. 0. 0. 0. 0. 0. 0. 0. 0. 0. 0.]\n",
      "[0. 0. 0. 0. 0. 0. 0. 0. 0. 0. 0. 0. 0. 1. 0. 0.]\n",
      "0.03125\n"
     ]
    }
   ],
   "source": [
    "y_train_split = np.zeros((len(y_train), 16))\n",
    "for i in range(len(y_train)):\n",
    "    k = y1_train[i] * 1 + y2_train[i] * 2 + y3_train[i] * 4 + y4_train[i] * 8\n",
    "    y_train_split[i][k] = 1\n",
    "y_test_split = np.zeros((len(y_test), 16))\n",
    "for i in range(len(y_test)):\n",
    "    k = y1_test[i] * 1 + y2_test[i] * 2 + y3_test[i] * 4 + y4_test[i] * 8\n",
    "    y_test_split[i][k] = 1\n",
    "nlp_model2 = KNeighborsClassifier()\n",
    "nlp_model2.fit(x_train, y_train_split)\n",
    "y_pred_split = nlp_model2.predict(x_test)\n",
    "acc2 = 0\n",
    "for i in range(len(y_test_split)):\n",
    "    k = 0\n",
    "    for j in range(16):\n",
    "        if y_test_split[i][j] == y_pred_split[i][j]:\n",
    "            k += 1\n",
    "    if k == 16:\n",
    "        acc2 += 1\n",
    "print(y_train_split)\n",
    "print(y_pred_split[0])\n",
    "print(y_test_split[0])\n",
    "acc2 = acc2/len(y_test_split)\n",
    "print(acc2)"
   ]
  },
  {
   "cell_type": "code",
   "execution_count": 18,
   "metadata": {},
   "outputs": [
    {
     "name": "stdout",
     "output_type": "stream",
     "text": [
      "(58972, 16)\n",
      "(3104, 16)\n",
      "[0.02105263 0.00701754 0.07368421 0.         0.         0.09473684\n",
      " 0.13333333 0.         0.00350877 0.         0.00701754 0.23157895\n",
      " 0.04561404 0.00350877 0.         0.         0.         0.04561404\n",
      " 0.01052632 0.05614035 0.         0.         0.00350877 0.02105263\n",
      " 0.         0.05263158 0.02807018 0.02105263 0.02105263 0.08070175\n",
      " 0.01754386 0.00701754 0.00701754 0.         0.00701754]\n"
     ]
    }
   ],
   "source": [
    "print(y_train_split.shape)\n",
    "print(y_pred_split.shape)\n",
    "print(x_train[0])\n",
    "ss = 0\n",
    "for i in x_train[0]:\n",
    "    ss += i\n",
    "for i in range(len(y_train_split)):\n",
    "    c = 0\n",
    "    for j in range(16):\n",
    "        if y_train_split[i][j] == 1:\n",
    "            c = 1\n",
    "    if c == 0:\n",
    "        print(\"error\")\n",
    "        break"
   ]
  }
 ],
 "metadata": {
  "kernelspec": {
   "display_name": "Python 3",
   "language": "python",
   "name": "python3"
  },
  "language_info": {
   "codemirror_mode": {
    "name": "ipython",
    "version": 3
   },
   "file_extension": ".py",
   "mimetype": "text/x-python",
   "name": "python",
   "nbconvert_exporter": "python",
   "pygments_lexer": "ipython3",
   "version": "3.11.7"
  }
 },
 "nbformat": 4,
 "nbformat_minor": 2
}
